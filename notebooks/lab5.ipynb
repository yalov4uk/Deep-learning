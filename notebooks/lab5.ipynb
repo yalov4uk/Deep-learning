{
 "cells": [
  {
   "cell_type": "markdown",
   "metadata": {},
   "source": [
    "## Лабораторная работа №5. Применение сверточных нейронных сетей (бинарная классификация)\n",
    "Данные: Набор данных DogsVsCats, который состоит из изображений различной размерности, содержащих фотографии собак и кошек. \n",
    "Обучающая выборка включает в себя 25 тыс. изображений (12,5 тыс. кошек: cat.0.jpg, …, cat.12499.jpg и 12,5 тыс. собак: dog.0.jpg, …, dog.12499.jpg), а контрольная выборка содержит 12,5 тыс. неразмеченных изображений. \n",
    "Скачать данные, а также проверить качество классификатора на тестовой выборке можно на сайте Kaggle -> https://www.kaggle.com/c/dogs-vs-cats/data\n"
   ]
  },
  {
   "cell_type": "markdown",
   "metadata": {},
   "source": [
    "#### Задание 1.\n",
    "Загрузите данные. Разделите исходный набор данных на обучающую, валидационную и контрольную выборки.\n"
   ]
  },
  {
   "cell_type": "code",
   "execution_count": 23,
   "metadata": {
    "pycharm": {
     "is_executing": false,
     "name": "#%%\n"
    }
   },
   "outputs": [],
   "source": [
    "import os\n",
    "from pandas import DataFrame\n",
    "from tensorflow import keras\n",
    "from sklearn.model_selection import train_test_split\n",
    "\n",
    "\n",
    "import numpy as np\n",
    "from keras.preprocessing.image import ImageDataGenerator, load_img\n",
    "from keras.utils import to_categorical\n",
    "import matplotlib.pyplot as plt\n",
    "import random\n",
    "\n",
    "data_folder = '../data'\n",
    "path_to_train = data_folder + '/dogs-vs-cats/train'\n",
    "path_to_test = data_folder + '/dogs-vs-cats/test1'\n",
    "h, w, c = 128, 128, 3\n",
    "batch_size = 256\n",
    "epochs = 3\n"
   ]
  },
  {
   "cell_type": "code",
   "execution_count": 24,
   "metadata": {
    "pycharm": {
     "is_executing": false,
     "name": "#%%\n"
    }
   },
   "outputs": [],
   "source": [
    "def data_frame(path):\n",
    "    filenames = os.listdir(path)\n",
    "\n",
    "    return DataFrame({\n",
    "        'filename': filenames,\n",
    "        'class': [filename.split('.')[0] for filename in filenames]\n",
    "    })\n"
   ]
  },
  {
   "cell_type": "code",
   "execution_count": 25,
   "metadata": {
    "pycharm": {
     "is_executing": false,
     "name": "#%%\n"
    }
   },
   "outputs": [
    {
     "data": {
      "text/html": [
       "<div>\n",
       "<style scoped>\n",
       "    .dataframe tbody tr th:only-of-type {\n",
       "        vertical-align: middle;\n",
       "    }\n",
       "\n",
       "    .dataframe tbody tr th {\n",
       "        vertical-align: top;\n",
       "    }\n",
       "\n",
       "    .dataframe thead th {\n",
       "        text-align: right;\n",
       "    }\n",
       "</style>\n",
       "<table border=\"1\" class=\"dataframe\">\n",
       "  <thead>\n",
       "    <tr style=\"text-align: right;\">\n",
       "      <th></th>\n",
       "      <th>filename</th>\n",
       "      <th>class</th>\n",
       "    </tr>\n",
       "  </thead>\n",
       "  <tbody>\n",
       "    <tr>\n",
       "      <th>0</th>\n",
       "      <td>dog.8186.jpg</td>\n",
       "      <td>dog</td>\n",
       "    </tr>\n",
       "    <tr>\n",
       "      <th>1</th>\n",
       "      <td>dog.10408.jpg</td>\n",
       "      <td>dog</td>\n",
       "    </tr>\n",
       "    <tr>\n",
       "      <th>2</th>\n",
       "      <td>dog.10087.jpg</td>\n",
       "      <td>dog</td>\n",
       "    </tr>\n",
       "    <tr>\n",
       "      <th>3</th>\n",
       "      <td>cat.6925.jpg</td>\n",
       "      <td>cat</td>\n",
       "    </tr>\n",
       "    <tr>\n",
       "      <th>4</th>\n",
       "      <td>cat.4682.jpg</td>\n",
       "      <td>cat</td>\n",
       "    </tr>\n",
       "  </tbody>\n",
       "</table>\n",
       "</div>"
      ],
      "text/plain": [
       "        filename class\n",
       "0   dog.8186.jpg   dog\n",
       "1  dog.10408.jpg   dog\n",
       "2  dog.10087.jpg   dog\n",
       "3   cat.6925.jpg   cat\n",
       "4   cat.4682.jpg   cat"
      ]
     },
     "execution_count": 25,
     "metadata": {},
     "output_type": "execute_result"
    }
   ],
   "source": [
    "train_df = data_frame(path_to_train)\n",
    "train_df.head()\n"
   ]
  },
  {
   "cell_type": "code",
   "execution_count": 26,
   "metadata": {
    "pycharm": {
     "is_executing": false,
     "name": "#%%\n"
    }
   },
   "outputs": [],
   "source": [
    "train_df, dev_df = train_test_split(train_df)\n"
   ]
  },
  {
   "cell_type": "code",
   "execution_count": 27,
   "metadata": {
    "pycharm": {
     "is_executing": false,
     "name": "#%%\n"
    }
   },
   "outputs": [
    {
     "name": "stdout",
     "output_type": "stream",
     "text": [
      "Found 18750 validated image filenames belonging to 2 classes.\n",
      "Found 6250 validated image filenames belonging to 2 classes.\n"
     ]
    }
   ],
   "source": [
    "train_data_generator = ImageDataGenerator()\n",
    "train_generator = train_data_generator.flow_from_dataframe(\n",
    "    train_df, \n",
    "    path_to_train, \n",
    "    class_mode='binary',\n",
    "    target_size=(h, w),\n",
    "    batch_size=batch_size\n",
    ")\n",
    "\n",
    "dev_data_generator = ImageDataGenerator()\n",
    "dev_generator = dev_data_generator.flow_from_dataframe(\n",
    "    dev_df, \n",
    "    path_to_train, \n",
    "    class_mode='binary',\n",
    "    target_size=(h, w),\n",
    "    batch_size=batch_size\n",
    ")"
   ]
  },
  {
   "cell_type": "markdown",
   "metadata": {},
   "source": [
    "#### Задание 2.\n",
    "Реализуйте глубокую нейронную сеть с как минимум тремя сверточными слоями. Какое качество классификации получено?\n",
    "\n"
   ]
  },
  {
   "cell_type": "code",
   "execution_count": 28,
   "metadata": {
    "pycharm": {
     "is_executing": false,
     "name": "#%%\n"
    }
   },
   "outputs": [],
   "source": [
    "\n",
    "def model_factory():\n",
    "    model = keras.models.Sequential([\n",
    "        keras.layers.Conv2D(6, (5, 5), activation='relu', input_shape=(h, w, c)),\n",
    "        keras.layers.MaxPooling2D(),\n",
    "        \n",
    "        keras.layers.Conv2D(16, (5, 5), activation='relu'),\n",
    "        keras.layers.MaxPooling2D(),\n",
    "        \n",
    "        keras.layers.Conv2D(32, (5, 5), activation='relu'),\n",
    "        keras.layers.MaxPooling2D(),\n",
    "        \n",
    "        keras.layers.Flatten(),\n",
    "        keras.layers.Dense(120, activation='relu'),\n",
    "        \n",
    "        keras.layers.Dense(84, activation='relu'),\n",
    "        \n",
    "        keras.layers.Dense(1, activation='sigmoid')\n",
    "    ])\n",
    "    \n",
    "    return model\n"
   ]
  },
  {
   "cell_type": "code",
   "execution_count": 29,
   "metadata": {
    "pycharm": {
     "is_executing": false,
     "name": "#%%\n"
    }
   },
   "outputs": [],
   "source": [
    "def train(model):\n",
    "    model.compile(loss='binary_crossentropy', optimizer='adam', metrics=['accuracy'])\n",
    "\n",
    "    model.fit(\n",
    "        train_generator, \n",
    "        epochs=epochs,\n",
    "        validation_data=dev_generator,\n",
    "        validation_steps=dev_df.shape[0] // batch_size,\n",
    "        steps_per_epoch=train_df.shape[0] // batch_size\n",
    "    )\n"
   ]
  },
  {
   "cell_type": "code",
   "execution_count": 30,
   "metadata": {
    "pycharm": {
     "name": "#%%\n"
    }
   },
   "outputs": [
    {
     "name": "stdout",
     "output_type": "stream",
     "text": [
      "WARNING:tensorflow:sample_weight modes were coerced from\n",
      "  ...\n",
      "    to  \n",
      "  ['...']\n",
      "WARNING:tensorflow:sample_weight modes were coerced from\n",
      "  ...\n",
      "    to  \n",
      "  ['...']\n",
      "Train for 73 steps, validate for 24 steps\n",
      "Epoch 1/3\n",
      "73/73 [==============================] - 91s 1s/step - loss: 3.7510 - accuracy: 0.5261 - val_loss: 0.6887 - val_accuracy: 0.5280\n",
      "Epoch 2/3\n",
      "73/73 [==============================] - 91s 1s/step - loss: 0.6782 - accuracy: 0.5568 - val_loss: 0.6906 - val_accuracy: 0.5594\n",
      "Epoch 3/3\n",
      "73/73 [==============================] - 87s 1s/step - loss: 0.6610 - accuracy: 0.5858 - val_loss: 0.6884 - val_accuracy: 0.5511\n"
     ]
    }
   ],
   "source": [
    "train(model_factory())\n"
   ]
  },
  {
   "cell_type": "markdown",
   "metadata": {},
   "source": [
    "#### Задание 3.\n",
    "Примените дополнение данных (data augmentation). Как это повлияло на качество классификатора? \n"
   ]
  },
  {
   "cell_type": "code",
   "execution_count": 31,
   "metadata": {
    "pycharm": {
     "name": "#%%\n"
    }
   },
   "outputs": [
    {
     "name": "stdout",
     "output_type": "stream",
     "text": [
      "Found 18750 validated image filenames belonging to 2 classes.\n"
     ]
    }
   ],
   "source": [
    "train_data_generator = ImageDataGenerator(\n",
    "    rotation_range=15,\n",
    "    shear_range=0.1,\n",
    "    zoom_range=0.2,\n",
    "    horizontal_flip=True,\n",
    "    width_shift_range=0.1,\n",
    "    height_shift_range=0.1\n",
    ")\n",
    "train_generator = train_data_generator.flow_from_dataframe(\n",
    "    train_df, \n",
    "    path_to_train, \n",
    "    class_mode='binary',\n",
    "    target_size=(h, w),\n",
    "    batch_size=batch_size\n",
    ")\n"
   ]
  },
  {
   "cell_type": "code",
   "execution_count": 32,
   "metadata": {
    "pycharm": {
     "name": "#%%\n"
    }
   },
   "outputs": [
    {
     "name": "stdout",
     "output_type": "stream",
     "text": [
      "WARNING:tensorflow:sample_weight modes were coerced from\n",
      "  ...\n",
      "    to  \n",
      "  ['...']\n",
      "WARNING:tensorflow:sample_weight modes were coerced from\n",
      "  ...\n",
      "    to  \n",
      "  ['...']\n",
      "Train for 73 steps, validate for 24 steps\n",
      "Epoch 1/3\n",
      "73/73 [==============================] - 132s 2s/step - loss: 2.0473 - accuracy: 0.5273 - val_loss: 0.6815 - val_accuracy: 0.5584\n",
      "Epoch 2/3\n",
      "73/73 [==============================] - 125s 2s/step - loss: 0.6643 - accuracy: 0.5914 - val_loss: 0.6534 - val_accuracy: 0.6050\n",
      "Epoch 3/3\n",
      "73/73 [==============================] - 126s 2s/step - loss: 0.6383 - accuracy: 0.6358 - val_loss: 0.6073 - val_accuracy: 0.6686\n"
     ]
    }
   ],
   "source": [
    "train(model_factory())\n"
   ]
  },
  {
   "cell_type": "markdown",
   "metadata": {},
   "source": [
    "#### Задание 4.\n",
    "Поэкспериментируйте с готовыми нейронными сетями (например, AlexNet, VGG16, Inception и т.п.), применив передаточное обучение. Как это повлияло на качество классификатора?\n",
    "Какой максимальный результат удалось получить на сайте Kaggle? Почему?\n"
   ]
  },
  {
   "cell_type": "code",
   "execution_count": 33,
   "metadata": {},
   "outputs": [],
   "source": [
    "def pre_trained_model_factory():\n",
    "    pre_trained_model = keras.applications.VGG16(input_shape=(h, w, c), \n",
    "                                                 include_top=False, \n",
    "                                                 weights='imagenet')\n",
    "    pre_trained_model.trainable = False\n",
    "    \n",
    "    model = keras.models.Sequential([\n",
    "        pre_trained_model,\n",
    "        keras.layers.GlobalAveragePooling2D(),  \n",
    "        keras.layers.Dense(512, activation='relu'),\n",
    "        keras.layers.Dense(1, activation='sigmoid')\n",
    "    ])\n",
    "    \n",
    "    return model\n"
   ]
  },
  {
   "cell_type": "code",
   "execution_count": 34,
   "metadata": {
    "pycharm": {
     "name": "#%%\n"
    }
   },
   "outputs": [
    {
     "name": "stdout",
     "output_type": "stream",
     "text": [
      "WARNING:tensorflow:sample_weight modes were coerced from\n",
      "  ...\n",
      "    to  \n",
      "  ['...']\n",
      "WARNING:tensorflow:sample_weight modes were coerced from\n",
      "  ...\n",
      "    to  \n",
      "  ['...']\n",
      "Train for 73 steps, validate for 24 steps\n",
      "Epoch 1/3\n",
      "73/73 [==============================] - 486s 7s/step - loss: 1.1058 - accuracy: 0.8529 - val_loss: 0.2997 - val_accuracy: 0.9250\n",
      "Epoch 2/3\n",
      "73/73 [==============================] - 490s 7s/step - loss: 0.2791 - accuracy: 0.9049 - val_loss: 0.2177 - val_accuracy: 0.9297\n",
      "Epoch 3/3\n",
      "73/73 [==============================] - 496s 7s/step - loss: 0.2137 - accuracy: 0.9178 - val_loss: 0.1915 - val_accuracy: 0.9292\n"
     ]
    }
   ],
   "source": [
    "model = pre_trained_model_factory()\n",
    "train(model)\n"
   ]
  },
  {
   "cell_type": "code",
   "execution_count": 35,
   "metadata": {},
   "outputs": [],
   "source": [
    "test_filenames = os.listdir(path_to_test)\n",
    "test_df = DataFrame({\n",
    "    'filename': test_filenames\n",
    "})\n"
   ]
  },
  {
   "cell_type": "code",
   "execution_count": 36,
   "metadata": {},
   "outputs": [
    {
     "name": "stdout",
     "output_type": "stream",
     "text": [
      "Found 12500 validated image filenames.\n"
     ]
    }
   ],
   "source": [
    "test_data_generator = ImageDataGenerator()\n",
    "test_generator = test_data_generator.flow_from_dataframe(\n",
    "    test_df, \n",
    "    path_to_test, \n",
    "    y_col=None,\n",
    "    class_mode=None,\n",
    "    batch_size=batch_size,\n",
    "    target_size=(h, w),\n",
    "    shuffle=False\n",
    ")\n"
   ]
  },
  {
   "cell_type": "code",
   "execution_count": 39,
   "metadata": {},
   "outputs": [],
   "source": [
    "predict = model.predict(test_generator)\n",
    "threshold = 0.5\n",
    "test_df['class'] = np.where(predict > threshold, 1, 0)\n"
   ]
  },
  {
   "cell_type": "code",
   "execution_count": 40,
   "metadata": {
    "pycharm": {
     "name": "#%%\n"
    }
   },
   "outputs": [],
   "source": [
    "submission_df = test_df.copy()\n",
    "submission_df['id'] = submission_df['filename'].str.split('.').str[0]\n",
    "submission_df['label'] = submission_df['class']\n",
    "submission_df.drop(['filename', 'class'], axis=1, inplace=True)\n",
    "submission_df.to_csv(data_folder + '/submission_vgg.csv', index=False)\n"
   ]
  },
  {
   "cell_type": "markdown",
   "source": [
    "![vgg submission results](../content/lab5-vgg.png)\n"
   ],
   "metadata": {
    "collapsed": false
   }
  }
 ],
 "metadata": {
  "kernelspec": {
   "display_name": "Python 3",
   "language": "python",
   "name": "python3"
  },
  "language_info": {
   "codemirror_mode": {
    "name": "ipython",
    "version": 3
   },
   "file_extension": ".py",
   "mimetype": "text/x-python",
   "name": "python",
   "nbconvert_exporter": "python",
   "pygments_lexer": "ipython3",
   "version": "3.7.6"
  },
  "pycharm": {
   "stem_cell": {
    "cell_type": "raw",
    "source": [],
    "metadata": {
     "collapsed": false
    }
   }
  }
 },
 "nbformat": 4,
 "nbformat_minor": 1
}