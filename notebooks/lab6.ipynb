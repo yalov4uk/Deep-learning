{
 "cells": [
  {
   "cell_type": "markdown",
   "metadata": {},
   "source": [
    "## Лабораторная работа №6. Применение сверточных нейронных сетей (многоклассовая классификация)\n",
    "Данные: Набор данных для распознавания языка жестов, который состоит из изображений размерности 28x28 в оттенках серого (значение пикселя от 0 до 255). \n",
    "Каждое из изображений обозначает букву латинского алфавита, обозначенную с помощью жеста, как показано на рисунке ниже (рисунок цветной, а изображения в наборе данных в оттенках серого). \n",
    "Обучающая выборка включает в себя 27,455 изображений, а контрольная выборка содержит 7172 изображения. \n",
    "Данные в виде csv-файлов можно скачать на сайте Kaggle -> https://www.kaggle.com/datamunge/sign-language-mnist\n"
   ]
  },
  {
   "cell_type": "markdown",
   "metadata": {},
   "source": [
    "#### Задание 1.\n",
    "Загрузите данные. Разделите исходный набор данных на обучающую и валидационную выборки.\n"
   ]
  },
  {
   "cell_type": "code",
   "execution_count": 13,
   "metadata": {
    "pycharm": {
     "is_executing": false,
     "name": "#%%\n"
    }
   },
   "outputs": [],
   "source": [
    "import numpy as np\n",
    "import pandas as pd\n",
    "from tensorflow import keras\n",
    "\n",
    "data_folder = '../data'\n",
    "h, w, c = 28, 28, 1\n",
    "batch_size = 256\n",
    "epochs = 3\n",
    "classes = 25\n"
   ]
  },
  {
   "cell_type": "code",
   "execution_count": 14,
   "metadata": {
    "pycharm": {
     "is_executing": false,
     "name": "#%%\n"
    }
   },
   "outputs": [],
   "source": [
    "def load_data(name):\n",
    "    df = pd.read_csv(data_folder + '/sign-language-mnist/' + name)\n",
    "    y = df['label'].values.reshape(len(df['label'].values), 1)\n",
    "    df.drop('label', axis = 1, inplace = True)\n",
    "    X = np.array([np.reshape(i, (h, w, c)) for i in df.values])\n",
    "    return X, y\n"
   ]
  },
  {
   "cell_type": "code",
   "execution_count": 15,
   "metadata": {
    "pycharm": {
     "is_executing": false,
     "name": "#%%\n"
    }
   },
   "outputs": [],
   "source": [
    "X_train, y_train = load_data('sign_mnist_train.csv')\n",
    "X_dev, y_dev = load_data('sign_mnist_test.csv')\n"
   ]
  },
  {
   "cell_type": "code",
   "execution_count": 16,
   "metadata": {
    "pycharm": {
     "is_executing": false,
     "name": "#%%\n"
    }
   },
   "outputs": [],
   "source": [
    "data_generator = keras.preprocessing.image.ImageDataGenerator()\n",
    "\n",
    "train_generator = data_generator.flow(X_train, keras.utils.to_categorical(y_train),\n",
    "    batch_size=batch_size)\n",
    "\n",
    "dev_generator = data_generator.flow(X_dev, keras.utils.to_categorical(y_dev),\n",
    "    batch_size=batch_size)\n"
   ]
  },
  {
   "cell_type": "markdown",
   "metadata": {},
   "source": [
    "#### Задание 2.\n",
    "Реализуйте глубокую нейронную сеть со сверточными слоями. Какое качество классификации получено? Какая архитектура сети была использована?\n"
   ]
  },
  {
   "cell_type": "code",
   "execution_count": 17,
   "metadata": {
    "pycharm": {
     "is_executing": false,
     "name": "#%%\n"
    }
   },
   "outputs": [],
   "source": [
    "def model_factory():\n",
    "    model = keras.models.Sequential([\n",
    "        keras.layers.Conv2D(6, (5, 5), activation='relu', input_shape=(h, w, c)),\n",
    "        keras.layers.MaxPooling2D(),\n",
    "        \n",
    "        keras.layers.Conv2D(16, (5, 5), activation='relu'),\n",
    "        keras.layers.MaxPooling2D(),\n",
    "        \n",
    "        keras.layers.Flatten(),\n",
    "        keras.layers.Dense(120, activation='relu'),\n",
    "        \n",
    "        keras.layers.Dense(84, activation='relu'),\n",
    "        \n",
    "        keras.layers.Dense(classes, activation='softmax')\n",
    "    ])\n",
    "    \n",
    "    return model\n"
   ]
  },
  {
   "cell_type": "code",
   "execution_count": 18,
   "metadata": {
    "pycharm": {
     "is_executing": false,
     "name": "#%%\n"
    }
   },
   "outputs": [],
   "source": [
    "def train(model):\n",
    "    model.compile(loss='categorical_crossentropy', optimizer='adam', \n",
    "                  metrics=['accuracy'])\n",
    "\n",
    "    model.fit(train_generator, validation_data=dev_generator, epochs=epochs)\n"
   ]
  },
  {
   "cell_type": "code",
   "execution_count": 19,
   "metadata": {
    "pycharm": {
     "is_executing": false,
     "name": "#%%\n"
    }
   },
   "outputs": [
    {
     "name": "stdout",
     "output_type": "stream",
     "text": [
      "WARNING:tensorflow:sample_weight modes were coerced from\n",
      "  ...\n",
      "    to  \n",
      "  ['...']\n",
      "WARNING:tensorflow:sample_weight modes were coerced from\n",
      "  ...\n",
      "    to  \n",
      "  ['...']\n",
      "Train for 108 steps, validate for 29 steps\n",
      "Epoch 1/3\n",
      "108/108 [==============================] - 10s 95ms/step - loss: 3.3918 - accuracy: 0.3868 - val_loss: 1.3333 - val_accuracy: 0.5877\n",
      "Epoch 2/3\n",
      "108/108 [==============================] - 11s 103ms/step - loss: 0.2356 - accuracy: 0.9464 - val_loss: 0.9759 - val_accuracy: 0.7267\n",
      "Epoch 3/3\n",
      "108/108 [==============================] - 9s 79ms/step - loss: 0.0322 - accuracy: 0.9981 - val_loss: 0.9999 - val_accuracy: 0.7369\n"
     ]
    }
   ],
   "source": [
    "model = model_factory()\n",
    "train(model)\n"
   ]
  },
  {
   "cell_type": "markdown",
   "metadata": {},
   "source": [
    "#### Задание 3.\n",
    "Примените дополнение данных (data augmentation). Как это повлияло на качество классификатора? \n"
   ]
  },
  {
   "cell_type": "code",
   "execution_count": 20,
   "metadata": {
    "pycharm": {
     "is_executing": false,
     "name": "#%%\n"
    }
   },
   "outputs": [],
   "source": [
    "data_generator_with_augmentation = keras.preprocessing.image.ImageDataGenerator(\n",
    "    rotation_range=1,\n",
    "    shear_range=0.1,\n",
    "    vertical_flip=True,\n",
    "    width_shift_range=0.1,\n",
    "    height_shift_range=0.1\n",
    ")\n",
    "\n",
    "train_generator = data_generator_with_augmentation.flow(\n",
    "    X_train, keras.utils.to_categorical(y_train), batch_size=batch_size)\n"
   ]
  },
  {
   "cell_type": "code",
   "execution_count": 21,
   "metadata": {
    "pycharm": {
     "is_executing": false,
     "name": "#%%\n"
    }
   },
   "outputs": [
    {
     "name": "stdout",
     "output_type": "stream",
     "text": [
      "WARNING:tensorflow:sample_weight modes were coerced from\n",
      "  ...\n",
      "    to  \n",
      "  ['...']\n",
      "WARNING:tensorflow:sample_weight modes were coerced from\n",
      "  ...\n",
      "    to  \n",
      "  ['...']\n",
      "Train for 108 steps, validate for 29 steps\n",
      "Epoch 1/3\n",
      "108/108 [==============================] - 8s 76ms/step - loss: 4.3834 - accuracy: 0.1031 - val_loss: 2.6543 - val_accuracy: 0.2069\n",
      "Epoch 2/3\n",
      "108/108 [==============================] - 8s 74ms/step - loss: 2.2234 - accuracy: 0.3276 - val_loss: 1.6596 - val_accuracy: 0.4689\n",
      "Epoch 3/3\n",
      "108/108 [==============================] - 7s 67ms/step - loss: 1.6079 - accuracy: 0.4995 - val_loss: 1.2455 - val_accuracy: 0.5993\n"
     ]
    }
   ],
   "source": [
    "model = model_factory()\n",
    "train(model)\n"
   ]
  },
  {
   "cell_type": "markdown",
   "metadata": {},
   "source": [
    "#### Задание 4.\n",
    "Поэкспериментируйте с готовыми нейронными сетями (например, AlexNet, VGG16, Inception и т.п.), применив передаточное обучение. Как это повлияло на качество классификатора? Можно ли было обойтись без него?\n",
    "Какой максимальный результат удалось получить на контрольной выборке?\n"
   ]
  },
  {
   "cell_type": "code",
   "execution_count": 22,
   "metadata": {
    "pycharm": {
     "is_executing": false,
     "name": "#%%\n"
    }
   },
   "outputs": [],
   "source": [
    "def pre_trained_model_factory():\n",
    "    pre_trained_model = keras.applications.VGG16(input_shape=(h, w, c), \n",
    "                                                 include_top=False, \n",
    "                                                 weights='imagenet')\n",
    "    pre_trained_model.trainable = False\n",
    "    \n",
    "    model = keras.models.Sequential([\n",
    "        pre_trained_model,\n",
    "        keras.layers.GlobalAveragePooling2D(),  \n",
    "        keras.layers.Dense(512, activation='relu'),\n",
    "        keras.layers.Dense(classes, activation='softmax')\n",
    "    ])\n",
    "    \n",
    "    return model\n"
   ]
  },
  {
   "cell_type": "code",
   "execution_count": 23,
   "metadata": {
    "pycharm": {
     "is_executing": false,
     "name": "#%%\n"
    }
   },
   "outputs": [],
   "source": [
    "h, w, c = 32, 32, 3\n"
   ]
  },
  {
   "cell_type": "code",
   "execution_count": 24,
   "metadata": {
    "pycharm": {
     "is_executing": false,
     "name": "#%%\n"
    }
   },
   "outputs": [],
   "source": [
    "X_train = np.pad(np.concatenate([X_train, X_train, X_train], axis=-1), \n",
    "                 ((0, 0), (2, 2), (2, 2), (0, 0)))\n",
    "X_dev = np.pad(np.concatenate([X_dev, X_dev, X_dev], axis=-1), \n",
    "               ((0, 0), (2, 2), (2, 2), (0, 0)))\n",
    "\n",
    "train_generator = data_generator_with_augmentation.flow(\n",
    "    X_train, keras.utils.to_categorical(y_train), batch_size=batch_size)\n",
    "\n",
    "dev_generator = data_generator.flow(X_dev, keras.utils.to_categorical(y_dev),\n",
    "    batch_size=batch_size)\n",
    "               "
   ]
  },
  {
   "cell_type": "code",
   "execution_count": 25,
   "metadata": {
    "pycharm": {
     "is_executing": false,
     "name": "#%%\n"
    }
   },
   "outputs": [
    {
     "name": "stdout",
     "output_type": "stream",
     "text": [
      "WARNING:tensorflow:sample_weight modes were coerced from\n",
      "  ...\n",
      "    to  \n",
      "  ['...']\n",
      "WARNING:tensorflow:sample_weight modes were coerced from\n",
      "  ...\n",
      "    to  \n",
      "  ['...']\n",
      "Train for 108 steps, validate for 29 steps\n",
      "Epoch 1/3\n",
      "108/108 [==============================] - 61s 567ms/step - loss: 2.3607 - accuracy: 0.5264 - val_loss: 1.7137 - val_accuracy: 0.5142\n",
      "Epoch 2/3\n",
      "108/108 [==============================] - 63s 584ms/step - loss: 0.8854 - accuracy: 0.7172 - val_loss: 1.5605 - val_accuracy: 0.5661\n",
      "Epoch 3/3\n",
      "108/108 [==============================] - 55s 508ms/step - loss: 0.6679 - accuracy: 0.7794 - val_loss: 1.3707 - val_accuracy: 0.5998\n"
     ]
    }
   ],
   "source": [
    "model = pre_trained_model_factory()\n",
    "train(model)\n"
   ]
  }
 ],
 "metadata": {
  "kernelspec": {
   "display_name": "Python 3",
   "language": "python",
   "name": "python3"
  },
  "language_info": {
   "codemirror_mode": {
    "name": "ipython",
    "version": 3
   },
   "file_extension": ".py",
   "mimetype": "text/x-python",
   "name": "python",
   "nbconvert_exporter": "python",
   "pygments_lexer": "ipython3",
   "version": "3.7.6"
  },
  "pycharm": {
   "stem_cell": {
    "cell_type": "raw",
    "metadata": {
     "collapsed": false
    },
    "source": []
   }
  }
 },
 "nbformat": 4,
 "nbformat_minor": 1
}
