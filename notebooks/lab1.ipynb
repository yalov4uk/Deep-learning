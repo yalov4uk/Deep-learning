{
 "cells": [
  {
   "cell_type": "markdown",
   "metadata": {},
   "source": [
    "## Лабораторная работа №1. Логистическая регрессия в качестве нейронной сети\n",
    "Данные: В работе предлагается использовать набор данных notMNIST, который состоит из изображений размерностью 28×28 первых 10 букв латинского алфавита (A … J, соответственно). Обучающая выборка содержит порядка 500 тыс. изображений, а тестовая – около 19 тыс.\n",
    "\n",
    "Данные можно скачать по ссылке:\n",
    "https://commondatastorage.googleapis.com/books1000/notMNIST_large.tar.gz (большой набор данных);\n",
    "https://commondatastorage.googleapis.com/books1000/notMNIST_small.tar.gz (маленький набор данных);\n",
    "\n",
    "Описание данных на английском языке доступно по ссылке:\n",
    "http://yaroslavvb.blogspot.sg/2011/09/notmnist-dataset.html\n"
   ]
  },
  {
   "cell_type": "markdown",
   "metadata": {},
   "source": [
    "#### Задание 1.\n",
    "Загрузите данные и отобразите на экране несколько из изображений с помощью языка Python;\n"
   ]
  },
  {
   "cell_type": "code",
   "execution_count": 2,
   "metadata": {
    "pycharm": {
     "is_executing": false
    }
   },
   "outputs": [],
   "source": [
    "import os\n",
    "import tarfile\n",
    "\n",
    "data_folder = '../data'\n",
    "\n",
    "def extract(name):\n",
    "    path = os.path.join(data_folder, name)\n",
    "\n",
    "    with tarfile.open(path) as tar:\n",
    "        tar.extractall(data_folder)\n"
   ]
  },
  {
   "cell_type": "code",
   "execution_count": 3,
   "metadata": {
    "pycharm": {
     "is_executing": false
    }
   },
   "outputs": [],
   "source": [
    "active_dataset = 'notMNIST_large'\n"
   ]
  },
  {
   "cell_type": "code",
   "execution_count": null,
   "outputs": [],
   "source": [
    "extract(active_dataset + '.tar.gz')\n"
   ],
   "metadata": {
    "collapsed": false,
    "pycharm": {
     "name": "#%%\n"
    }
   }
  },
  {
   "cell_type": "code",
   "execution_count": 4,
   "metadata": {
    "pycharm": {
     "is_executing": false,
     "name": "#%%\n"
    }
   },
   "outputs": [],
   "source": [
    "import numpy as np\n",
    "import matplotlib.image as mpimg\n",
    "\n",
    "def load_data(name, classes, n):\n",
    "    X = []\n",
    "    y = []\n",
    "\n",
    "    path = os.path.join(data_folder, name)\n",
    "\n",
    "    for letter_path, dir_names, file_names in os.walk(path):\n",
    "        for file_name in file_names:\n",
    "            try:\n",
    "                img_path = os.path.join(letter_path, file_name)\n",
    "                img = mpimg.imread(img_path)\n",
    "                img = img.reshape(1, n).T\n",
    "                \n",
    "                X.append(img)\n",
    "\n",
    "                letter_class = os.path.basename(letter_path)\n",
    "                index = classes.index(letter_class)\n",
    "                \n",
    "                y.append(index)\n",
    "            except:\n",
    "                pass\n",
    "\n",
    "    m = len(X)\n",
    "    X = np.array(X).T.reshape((n, m))\n",
    "    y = np.array(y).T.reshape((1, m))\n",
    "\n",
    "    return X, y\n"
   ]
  },
  {
   "cell_type": "code",
   "execution_count": 5,
   "metadata": {
    "pycharm": {
     "is_executing": false
    }
   },
   "outputs": [],
   "source": [
    "h = 28\n",
    "w = 28\n",
    "n = h * w\n",
    "classes = ['A', 'B', 'C', 'D', 'E', 'F', 'G', 'H', 'I', 'J']\n",
    "X, y = load_data(active_dataset, classes, n)\n"
   ]
  },
  {
   "cell_type": "code",
   "execution_count": 6,
   "outputs": [],
   "source": [
    "import matplotlib.pyplot as plt\n",
    "\n",
    "def plot_images(X, h, w):\n",
    "    count = 10\n",
    "    \n",
    "    indexes = np.random.randint(0, X.shape[1], count)\n",
    "\n",
    "    fig, axises = plt.subplots(1, len(indexes), figsize=(5, 5))\n",
    "\n",
    "    for i in range(len(indexes)):\n",
    "        img = X[:, indexes[i]].reshape(h, w)\n",
    "    \n",
    "        axis = axises[i]\n",
    "        axis.imshow(img)\n",
    "        axis.axis('off')\n",
    "    \n",
    "    plt.show()\n"
   ],
   "metadata": {
    "collapsed": false,
    "pycharm": {
     "name": "#%%\n",
     "is_executing": false
    }
   }
  },
  {
   "cell_type": "code",
   "execution_count": 7,
   "outputs": [
    {
     "data": {
      "text/plain": "<Figure size 360x360 with 10 Axes>",
      "image/png": "[encoded data removed]"
     },
     "metadata": {
      "needs_background": "light"
     },
     "output_type": "display_data"
    }
   ],
   "source": [
    "plot_images(X, h, w)\n"
   ],
   "metadata": {
    "collapsed": false,
    "pycharm": {
     "name": "#%%\n",
     "is_executing": false
    }
   }
  },
  {
   "cell_type": "markdown",
   "source": [
    "#### Задание 2.\n",
    "Проверьте, что классы являются сбалансированными, т.е. количество изображений, принадлежащих каждому из классов, примерно одинаково (В данной задаче 10 классов).\n"
   ],
   "metadata": {
    "collapsed": false
   }
  },
  {
   "cell_type": "code",
   "execution_count": 9,
   "outputs": [
    {
     "data": {
      "text/plain": "Counter({2: 52912,\n         6: 52912,\n         7: 52912,\n         4: 52912,\n         8: 52912,\n         9: 52911,\n         3: 52911,\n         1: 52911,\n         5: 52912,\n         0: 52909})"
     },
     "metadata": {},
     "output_type": "execute_result",
     "execution_count": 9
    }
   ],
   "source": [
    "from collections import Counter\n",
    "\n",
    "Counter(y[0])\n"
   ],
   "metadata": {
    "collapsed": false,
    "pycharm": {
     "name": "#%%\n",
     "is_executing": false
    }
   }
  },
  {
   "cell_type": "markdown",
   "source": [
    "Задание 3.\n",
    "Разделите данные на три подвыборки: обучающую (200 тыс. изображений), валидационную (10 тыс. изображений) и контрольную (тестовую) (19 тыс. изображений);\n"
   ],
   "metadata": {
    "collapsed": false,
    "pycharm": {
     "name": "#%% md\n"
    }
   }
  },
  {
   "cell_type": "code",
   "execution_count": 10,
   "outputs": [],
   "source": [
    "def split_data(X, Y, borders):\n",
    "    p = np.random.permutation(X.shape[1])\n",
    "\n",
    "    return np.hsplit(X[:, p], borders), np.hsplit(Y[:, p], borders)"
   ],
   "metadata": {
    "collapsed": false,
    "pycharm": {
     "name": "#%%\n",
     "is_executing": false
    }
   }
  },
  {
   "cell_type": "code",
   "execution_count": 11,
   "outputs": [],
   "source": [
    "X_split, y_split = split_data(X, y, [200000, 200000 + 10000, 200000 + 10000 + 19000])\n",
    "\n",
    "X_train = X_split[0]\n",
    "X_dev = X_split[1]\n",
    "X_test = X_split[2]\n",
    "\n",
    "y_train = y_split[0]\n",
    "y_dev = y_split[1]\n",
    "y_test = y_split[2]\n"
   ],
   "metadata": {
    "collapsed": false,
    "pycharm": {
     "name": "#%%\n",
     "is_executing": false
    }
   }
  },
  {
   "cell_type": "markdown",
   "source": [
    "#### Задание 4.\n",
    "Проверьте, что данные из обучающей выборки не пересекаются с данными из валидационной и контрольной выборок. Другими словами, избавьтесь от дубликатов в обучающей выборке.\n"
   ],
   "metadata": {
    "collapsed": false
   }
  },
  {
   "cell_type": "code",
   "execution_count": 12,
   "outputs": [],
   "source": [
    "import hashlib\n",
    "\n",
    "def remove_duplicates(name):\n",
    "    unique = set()\n",
    "    \n",
    "    path = os.path.join(data_folder, name)\n",
    "    \n",
    "    for letter_path, dir_names, file_names in os.walk(path):\n",
    "        for file_name in file_names:\n",
    "            img_path = os.path.join(letter_path, file_name)\n",
    "            \n",
    "            with open(img_path, 'rb') as file:\n",
    "                hash = hashlib.md5(file.read()).hexdigest()\n",
    "            \n",
    "            if hash in unique: \n",
    "                os.remove(img_path)\n",
    "            \n",
    "            unique.add(hash)\n"
   ],
   "metadata": {
    "collapsed": false,
    "pycharm": {
     "name": "#%%\n",
     "is_executing": false
    }
   }
  },
  {
   "cell_type": "code",
   "execution_count": 13,
   "outputs": [],
   "source": [
    "remove_duplicates(active_dataset)\n"
   ],
   "metadata": {
    "collapsed": false,
    "pycharm": {
     "name": "#%%\n",
     "is_executing": false
    }
   }
  },
  {
   "cell_type": "markdown",
   "source": [
    "#### Задание 5.\n",
    "Постройте простейший классификатор (например, с помощью логистической регрессии). Постройте график зависимости точности классификатора от размера обучающей выборки (50, 100, 1000, 50000). Для построения классификатора можете использовать библиотеку SkLearn (http://scikit-learn.org).\n"
   ],
   "metadata": {
    "collapsed": false
   }
  },
  {
   "cell_type": "code",
   "execution_count": 16,
   "outputs": [],
   "source": [
    "from sklearn.linear_model import LogisticRegression\n",
    "from sklearn.multiclass import OneVsRestClassifier\n",
    "\n",
    "def train(X_train, y_train, iter):\n",
    "    logistic_model = LogisticRegression(max_iter=iter)\n",
    "    model = OneVsRestClassifier(logistic_model).fit(X_train, y_train)\n",
    "    return model \n"
   ],
   "metadata": {
    "collapsed": false,
    "pycharm": {
     "name": "#%%\n",
     "is_executing": false
    }
   }
  },
  {
   "cell_type": "code",
   "execution_count": 17,
   "outputs": [],
   "source": [
    "iter = 800\n",
    "train_sizes = [50, 100, 1000, 50000]\n",
    "\n",
    "dev_result = []\n",
    "test_result = []\n",
    "\n",
    "for size in train_sizes:\n",
    "    model = train(X_train[:, :size].T, y_train[:, :size].T, iter)\n",
    "    \n",
    "    dev_result.append(model.score(X_dev.T, y_dev.T))\n",
    "    test_result.append(model.score(X_test.T, y_test.T))\n"
   ],
   "metadata": {
    "collapsed": false,
    "pycharm": {
     "name": "#%%\n",
     "is_executing": false
    }
   }
  },
  {
   "cell_type": "code",
   "execution_count": 18,
   "outputs": [
    {
     "name": "stdout",
     "text": [
      "0.8171578947368421\n"
     ],
     "output_type": "stream"
    },
    {
     "data": {
      "text/plain": "<Figure size 432x288 with 1 Axes>",
      "image/png": "[encoded data removed]"
     },
     "metadata": {
      "needs_background": "light"
     },
     "output_type": "display_data"
    }
   ],
   "source": [
    "print(test_result[len(test_result) - 1])\n",
    "plt.plot(train_sizes, dev_result, label='dev result')\n",
    "plt.plot(train_sizes, test_result, label='test result')\n",
    "plt.legend()\n",
    "plt.show()\n"
   ],
   "metadata": {
    "collapsed": false,
    "pycharm": {
     "name": "#%%\n",
     "is_executing": false
    }
   }
  }
 ],
 "metadata": {
  "kernelspec": {
   "display_name": "Python 3",
   "language": "python",
   "name": "python3"
  },
  "language_info": {
   "codemirror_mode": {
    "name": "ipython",
    "version": 3
   },
   "file_extension": ".py",
   "mimetype": "text/x-python",
   "name": "python",
   "nbconvert_exporter": "python",
   "pygments_lexer": "ipython3",
   "version": "3.7.6"
  },
  "pycharm": {
   "stem_cell": {
    "cell_type": "raw",
    "source": [],
    "metadata": {
     "collapsed": false
    }
   }
  }
 },
 "nbformat": 4,
 "nbformat_minor": 4
}